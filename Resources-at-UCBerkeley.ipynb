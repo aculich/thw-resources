{
 "cells": [
  {
   "cell_type": "markdown",
   "metadata": {
    "slideshow": {
     "slide_type": "slide"
    }
   },
   "source": [
    "# Campus resources beyond the The Hacker Within?"
   ]
  },
  {
   "cell_type": "markdown",
   "metadata": {
    "slideshow": {
     "slide_type": "-"
    }
   },
   "source": [
    "## Organizations\n",
    "\n",
    "- [D-Lab: Data Intensive Social Science](http://dlab.berkeley.edu/)\n",
    "- [BIDS: Berkeley Institute for Data Science](http://bids.berkeley.edu/)\n",
    "- [BRC: Berkeley Research Computing](http://research-it.berkeley.edu/brc)"
   ]
  },
  {
   "cell_type": "markdown",
   "metadata": {
    "slideshow": {
     "slide_type": "-"
    }
   },
   "source": [
    "- Many more, but these are a few places to start that can provide..."
   ]
  },
  {
   "cell_type": "markdown",
   "metadata": {
    "slideshow": {
     "slide_type": "-"
    }
   },
   "source": [
    "## Offerings\n",
    "- Training\n",
    "- Consulting\n",
    "- Working Groups\n",
    "- Communities\n",
    "- Collaborative Spaces & Research Spaces\n",
    "- Data and Computing Resources"
   ]
  },
  {
   "cell_type": "code",
   "execution_count": 1,
   "metadata": {
    "collapsed": true,
    "slideshow": {
     "slide_type": "skip"
    }
   },
   "outputs": [],
   "source": [
    "from IPython.display import display, Image"
   ]
  },
  {
   "cell_type": "markdown",
   "metadata": {
    "slideshow": {
     "slide_type": "slide"
    }
   },
   "source": [
    "# D-Lab - Data Intensive Social Science"
   ]
  },
  {
   "cell_type": "markdown",
   "metadata": {},
   "source": [
    "![Alt text](DLab-logo.png \"D-Lab: Data Intensive Social Sciences\")"
   ]
  },
  {
   "cell_type": "markdown",
   "metadata": {
    "slideshow": {
     "slide_type": "-"
    }
   },
   "source": [
    "**Mission: ** Helps Berkeley faculty, staff, and graduate students move forward with world-class research in data intensive social science.\n",
    "\n",
    "- A venue for methodological exchange from all corners of campus and across its bounds. "
   ]
  },
  {
   "cell_type": "markdown",
   "metadata": {
    "slideshow": {
     "slide_type": "-"
    }
   },
   "source": [
    "**Provides:**\n",
    "- Training\n",
    "- Consulting\n",
    "- Working Groups\n",
    "- Collaborative Space\n",
    "- Communities"
   ]
  },
  {
   "cell_type": "markdown",
   "metadata": {
    "slideshow": {
     "slide_type": "slide"
    }
   },
   "source": [
    "# BIDS - Berkeley Institute for Data Science"
   ]
  },
  {
   "cell_type": "markdown",
   "metadata": {},
   "source": [
    "![Alt text](BIDS-logo.png \"Berkeley Institute for Data Science (BIDS)\")"
   ]
  },
  {
   "cell_type": "markdown",
   "metadata": {
    "slideshow": {
     "slide_type": "-"
    }
   },
   "source": [
    "**Mission: ** A central hub of research and education at UC Berkeley designed to facilitate and nurture data-intensive science.\n",
    "\n",
    "- building a community centered on a cohort of Fellows and Senior Fellows\n",
    "- cross-disciplinary researchers from across campus and\n",
    "- bring together broad constituents of the data science community"
   ]
  },
  {
   "cell_type": "markdown",
   "metadata": {
    "slideshow": {
     "slide_type": "-"
    }
   },
   "source": [
    "**Provides:**\n",
    "- Training\n",
    "- Consulting\n",
    "- Working Groups\n",
    "- Collaborative Space\n",
    "- Communities"
   ]
  },
  {
   "cell_type": "markdown",
   "metadata": {
    "slideshow": {
     "slide_type": "slide"
    }
   },
   "source": [
    "# BRC - Berkeley Research Computing"
   ]
  },
  {
   "cell_type": "markdown",
   "metadata": {},
   "source": [
    "![Alt text](BRC-logo.png \"Berkeley Research Computing (BRC)\")"
   ]
  },
  {
   "cell_type": "markdown",
   "metadata": {},
   "source": [
    "**Mission: ** Supports research and instruction across a range of computation and data analysis needs across the full spectrum of research.\n",
    "\n",
    "- consulting to match computational requirements to appropriate resources\n",
    "- access to computing resources ranging from \"bigger than your laptop\" to HPC to cloud computing "
   ]
  },
  {
   "cell_type": "markdown",
   "metadata": {},
   "source": [
    "**Provides:**\n",
    "- Computing Resources\n",
    "- Consulting\n",
    "- Training\n",
    "- Working Groups\n",
    "- Communities"
   ]
  },
  {
   "cell_type": "markdown",
   "metadata": {
    "slideshow": {
     "slide_type": "slide"
    }
   },
   "source": [
    "# Training"
   ]
  },
  {
   "cell_type": "markdown",
   "metadata": {},
   "source": [
    "## Upcoming Events\n",
    "- **Sept 9-10, 2015**, LBL: [LabTech 2015](https://commons.lbl.gov/display/itdivision/LabTech+2015)\n",
    "  - Scientific Computing (HPC)\n",
    "    - Building Software for Scientific Users\n",
    "    - [Jupyter](http://jupyter.org/), A Platform for Data Science at Scale\n",
    "    - Spark On Demand\n",
    "    - [Berkeley Common Environment](http://bce.berkeley.edu/)\n",
    "- ** Sept 14-16, 2015**, D-Lab: [Workshop INTENSIVE on Text Analysis](http://dlab.berkeley.edu/training)\n",
    "- **Nov 19-20, 2015**, AMPLab: [AMPCamp 6 Big Data Bootcamp](https://amplab.cs.berkeley.edu/event/ampcamp-6-big-data-bootcamp-berkeley-ca-nov-19-20-2015-registration-required/)\n",
    "\n",
    "## Online + local hands-on\n",
    "- ASPIRE Lab: [Short Course on Parallel Programming (available on edX)](https://edge.edx.org/courses/BerkeleyX/ASPIRE101x/2014_2015/e88abff4b3ed4fb480e8fcf1be986770/) (ongoing)\n",
    "- BRC: [XSEDE Training](https://portal.xsede.org/online-training) (ongoing)\n",
    "\n",
    "## Past Events\n",
    "- D-Lab: [R Bootcamp](http://dlab.berkeley.edu/training/r-bootcamp-1) and [Interactive Data Visualization in R](http://dlab.berkeley.edu/training/interactive-data-visualization-r-part-i-r-markdown)\n",
    "- D-Lab: [Programming FUNdamentals](http://dlab.berkeley.edu/training/programming-fundamentals-3)\n",
    "- D-Lab: [Python INTENSIVE](http://dlab.berkeley.edu/training/programming-fundamentals-python-intensive)\n",
    "- BIDS: [Software Carpentry Workshop](http://bids.berkeley.edu/events/bids-software-carpentry-workshop-intermediate-level)"
   ]
  },
  {
   "cell_type": "markdown",
   "metadata": {
    "slideshow": {
     "slide_type": "slide"
    }
   },
   "source": [
    "# Working Groups"
   ]
  },
  {
   "cell_type": "markdown",
   "metadata": {},
   "source": [
    "## D-Lab Fall 2015 Working Groups\n",
    "**Open to everyone!**\n",
    "\n",
    "- [Social Computing](http://dlab.berkeley.edu/working-groups/social-computing), practical skills, emerging technologies, and implementations of good ideas.\n",
    "- [Cloud Computing](http://dlab.berkeley.edu/working-groups/cloud-computing-working-group) best practices and patterns for working with public clouds like AWS, Azure\n",
    "  - kick-off session **4-6PM on Thursday, Sept 3rd**\n",
    "- [Basics of Bot-Building Using Twitter](http://dlab.berkeley.edu/training/basics-bot-building-using-twitter), learn to interact with [Twitter API using Python](https://github.com/geduldig/TwitterAPI)\n",
    "- [R Language Beginner Study Group](http://dlab.berkeley.edu/working-groups/berkeley-r-language-beginner-study-group)\n",
    "\n",
    "## BIDS Working Groups\n",
    "**Watch for working group events led by BIDS Fellows**\n",
    "\n",
    "- [Reproducibility and Open Science](http://bids.berkeley.edu/working-groups/reproducibility-and-open-science)\n",
    "  - Past event: [Toward Reproducible Science—A Quick Overview of the Recent BIDS Reproducibility Workshop](http://bids.berkeley.edu/news/toward-reproducible-science%E2%80%94-quick-overview-recent-bids-reproducibility-workshop) (see also [github repo](https://github.com/BIDS/repro-conf)).\n",
    "- [Software Tools and Environments](http://bids.berkeley.edu/working-groups/software-tools-and-environments)"
   ]
  },
  {
   "cell_type": "markdown",
   "metadata": {
    "slideshow": {
     "slide_type": "slide"
    }
   },
   "source": [
    "# Consulting\n",
    "\n",
    "## D-Lab\n",
    "D-Lab offers [consulting services](http://dlab.berkeley.edu/consulting) on research design, data analysis, data management, and related techniques and technologies. \n",
    "\n",
    "## BIDS\n",
    "BIDS fellows are available throughout the week for [office hours](http://bids.berkeley.edu/resources/office-hours) to discuss data-intensive research.\n",
    "\n",
    "## BRC\n",
    "[BRC Consulting](http://research-it.berkeley.edu/services/cloud-computing-support) can help you determine a good fit for your computational requirements; plan for and manage costs of computing; gain access to computing resources for research and instruction.\n"
   ]
  },
  {
   "cell_type": "markdown",
   "metadata": {
    "slideshow": {
     "slide_type": "slide"
    }
   },
   "source": [
    "# Consulting\n",
    "\n",
    "## Want to work part-time as a consultant?\n",
    "\n",
    "- [BRC is hiring NOW](https://wikihub.berkeley.edu/download/attachments/117605284/DRAFTBRCDomainConsultantJobDescription.pdf?version=1&modificationDate=1438905867591&api=v2) at up to 25% time (10 hours / week)\n",
    "- [D-Lab is looking for team members](http://dlab.berkeley.edu/blog/d-lab-looking-team-members)\n",
    "- CDIPS (Career Development in the Physical Sciences) has a [consulting club](http://cdips.physics.berkeley.edu/phdconsultingclub/) for learning about case practice and how to be a consultant.\n",
    "\n",
    "## Consulting Summit\n",
    "The [Consulting Summit](http://research-it.berkeley.edu/programs/consulting/consulting-summit-take-aways-and-high-level-summary) brings together dozens of consulting organizations across UC Berkeley, jointly hosted by BIDS, D-Lab, and Research IT.\n",
    "\n",
    "**Next Event:** October 22, 2015"
   ]
  },
  {
   "cell_type": "markdown",
   "metadata": {
    "slideshow": {
     "slide_type": "slide"
    }
   },
   "source": [
    "\n",
    "# Data and Computing Resources"
   ]
  },
  {
   "cell_type": "markdown",
   "metadata": {
    "slideshow": {
     "slide_type": "-"
    }
   },
   "source": [
    "## Data Resources\n",
    "- Library & Research IT: [Research Data Management](http://research-it.berkeley.edu/programs/research-data-management)\n",
    "- D-Lab: [UC Data and California Census Research Data Center (CCRDC)](http://dlab.berkeley.edu/data-resources)\n",
    "- D-Lab: [Cold Room](http://dlab.berkeley.edu/space#research), a secure computing environment for sensitive data"
   ]
  },
  {
   "cell_type": "markdown",
   "metadata": {
    "slideshow": {
     "slide_type": "-"
    }
   },
   "source": [
    "## Computing Resources\n",
    "Many of these are FREE resources:\n",
    "- [Laptops and iPads](http://www.lib.berkeley.edu/using-the-libraries/laptop-lending) - Need a laptop or iPad for a day? Check them out from Moffit Library! \n",
    "- [Virtual Workstations](http://research-it.berkeley.edu/programs/berkeley-research-computing#virtual-workstation), if you just need something a little bigger than your laptop.\n",
    "- [Institutional and Condo Cluster](http://research-it.berkeley.edu/services/high-performance-computing), local campus high-performance computing cluster with free access for faculty and PIs through the [Faculty Computing Allowance](http://research-it.berkeley.edu/services/high-performance-computing/faculty-computing-allowance)\n",
    "- [Cloud Computing Support](https://wikihub.berkeley.edu/display/istrit/Berkeley+Research+Computing%3A+Cloud+Consulting+Service+Launch), help with access to AWS, Azure, and other cloud computing platforms\n",
    "- [National Infrastructure](http://www.hpcwire.com/2015/07/31/xsede-panel-highlights-diversity-of-nsf-computing-resources/) HPC and cloud-like resources through XSEDE, NERSC and others:\n",
    "  - [Comet](http://www.sdsc.edu/services/hpc/hpc_systems.html#comet), a computing resource focused on the small and medium jobs that represent the “long-tail of science.\"\n",
    "  - data-intensive systems such as [Wrangler](https://www.tacc.utexas.edu/systems/wrangler) and [Bridges](http://psc.edu/index.php/bridges)\n",
    "  - testbeds for research on cloud computing, [Chameleon](https://www.chameleoncloud.org/) and [CloudLab](http://www.cloudlab.us/)"
   ]
  },
  {
   "cell_type": "markdown",
   "metadata": {
    "slideshow": {
     "slide_type": "slide"
    }
   },
   "source": [
    "# Collaborative Spaces\n",
    "\n",
    "## BIDS\n",
    "\n",
    "### Collaborative Space - [190 Doe Library](http://bids.berkeley.edu/about/directions-and-travel)\n",
    "\n",
    "A modern and dynamic environment designed to encourage meaningful research collaboration. This space includes a combination of individual workspaces, meeting rooms, interaction spaces, and a lecture area.\n",
    "\n",
    "![Alt text](python-table.jpg \"Python Table\")"
   ]
  },
  {
   "cell_type": "markdown",
   "metadata": {
    "slideshow": {
     "slide_type": "slide"
    }
   },
   "source": [
    "# Collaborative Spaces\n",
    "\n",
    "## D-Lab\n",
    "\n",
    "### Research Space - 350 Barrows Hall\n",
    "\n",
    "[D-Lab’s research space](http://dlab.berkeley.edu/space#research) has staff workspace and offices. It is the home of the UC DATA archive and will house the Barrows 3rd floor cold room.\n",
    "\n",
    "### Public Space - 365 Barrows Hall\n",
    "\n",
    "[D-Lab Collaboratory](http://dlab.berkeley.edu/space#collaboratory) - public space, training and meeting space, consulting space.\n",
    "\n",
    "![Alt text](collab-convening.jpg \"D-Lab Collaboratory\")"
   ]
  },
  {
   "cell_type": "markdown",
   "metadata": {
    "slideshow": {
     "slide_type": "slide"
    }
   },
   "source": [
    "# Collaborative Spaces\n",
    "\n",
    "## Dwinelle Hall\n",
    "\n",
    "### Teaching and Learning Space - Dwinelle Hall, South\n",
    "\n",
    "**Opening mid-Fall 2015**: [Dwinelle Collaborative Services Space](https://www.ets.berkeley.edu/projects/dwinelle-collaborative-services-space-project) - new collaborative service space for faculty and GSIs focused on teaching and learning.\n",
    "\n",
    "- Support for [data- and compute-intensive courses](http://research-it.berkeley.edu/blog/15/06/25/brc-supports-cloud-computing-public-health-big-data-course) that need computing resources; instructors can use this space to work with BRC consulting.\n",
    "\n",
    "Still under construction...\n",
    "![Alt text](dwinelle-space-panorama.jpg \"Dwinelle Teaching and Learning Space\")"
   ]
  },
  {
   "cell_type": "markdown",
   "metadata": {},
   "source": [
    "## The Hacker Within\n",
    "\n",
    "Weekly meeting for sharing skills and best practices for scientific computation, for all levels of experience.\n",
    "\n",
    "Great venue for:\n",
    "  - introducing new libraries\n",
    "  - showing off useful features of a scientific library or programming language you’re using\n",
    "  - bringing up a computational problem you’re having.\n",
    "\n",
    "### Next meeting:\n",
    "**Wednesday, August 26, 2015**: [What Do You Want to Learn, and What Can You Teach?](http://bids.berkeley.edu/events/hacker-within-what-do-you-want-learn-and-what-can-you-teach)\n",
    "\n",
    "[![Alt text](hacker_within_0.png \"The Hacker Within\")](http://thehackerwithin.github.io/berkeley/)\n"
   ]
  },
  {
   "cell_type": "markdown",
   "metadata": {
    "slideshow": {
     "slide_type": "slide"
    }
   },
   "source": [
    "# Communities"
   ]
  },
  {
   "cell_type": "markdown",
   "metadata": {},
   "source": [
    "## The Hacker Within\n",
    "\n",
    "Weekly meeting for sharing skills and best practices for scientific computation, for all levels of experience.\n",
    "\n",
    "Great venue for:\n",
    "  - introducing new libraries\n",
    "  - showing off useful features of a scientific library or programming language you’re using\n",
    "  - bringing up a computational problem you’re having.\n",
    "\n",
    "### Next meeting:\n",
    "**Wednesday, August 26, 2015**: [What Do You Want to Learn, and What Can You Teach?](http://bids.berkeley.edu/events/hacker-within-what-do-you-want-learn-and-what-can-you-teach)\n",
    "\n",
    "[![Alt text](hacker_within_0.png \"The Hacker Within\")](http://thehackerwithin.github.io/berkeley/)\n"
   ]
  }
 ],
 "metadata": {
  "celltoolbar": "Slideshow",
  "kernelspec": {
   "display_name": "Python 3",
   "language": "python",
   "name": "python3"
  },
  "language_info": {
   "codemirror_mode": {
    "name": "ipython",
    "version": 3
   },
   "file_extension": ".py",
   "mimetype": "text/x-python",
   "name": "python",
   "nbconvert_exporter": "python",
   "pygments_lexer": "ipython3",
   "version": "3.4.3"
  }
 },
 "nbformat": 4,
 "nbformat_minor": 0
}
